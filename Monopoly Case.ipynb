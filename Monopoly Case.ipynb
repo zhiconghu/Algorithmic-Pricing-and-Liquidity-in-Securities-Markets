{
 "cells": [
  {
   "cell_type": "code",
   "execution_count": 1,
   "metadata": {},
   "outputs": [],
   "source": [
    "import numpy as np\n",
    "from numpy import random\n",
    "import pandas as pd\n",
    "import matplotlib.pyplot as plt\n",
    "\n",
    "from ipynb.fs.full.Functions import generate_asset_payoff, generate_trader_valuation, generate_dealer_action, generate_q_matrix"
   ]
  },
  {
   "attachments": {},
   "cell_type": "markdown",
   "metadata": {},
   "source": [
    "# Variable Setting\n",
    "\n",
    "This is where we can set the variables of our economic environment. We can play around with these variables."
   ]
  },
  {
   "cell_type": "code",
   "execution_count": 2,
   "metadata": {},
   "outputs": [],
   "source": [
    "# Asset parameters\n",
    "payoff_high = 4\n",
    "prob_high = 0.5\n",
    "payoff_low = 0\n",
    "prob_low = 0.5\n",
    "expected_payoff = payoff_high*prob_high + payoff_low*prob_low\n",
    "\n",
    "# Dealer parameter\n",
    "no_of_dealer = 1\n",
    "lowest_ask_price = 1\n",
    "highest_ask_price = 15\n",
    "possible_ask_price = np.arange(lowest_ask_price, highest_ask_price+1, 1)\n",
    "\n",
    "# Trader parameters\n",
    "private_valuation_mean = 0\n",
    "private_valuation_sd = 5\n",
    "\n",
    "# Learning parameters\n",
    "alpha = 0.01\n",
    "beta = 0.0008\n",
    "lower_q = 3\n",
    "upper_q = 6\n",
    "\n",
    "# Number of Experiments and Episode\n",
    "K = 1000\n",
    "T = 200000"
   ]
  },
  {
   "attachments": {},
   "cell_type": "markdown",
   "metadata": {},
   "source": [
    "# Import Functions\n",
    "We have pre-written functions in the file \"Functions.ipynb\". We will be importing these functions and testing them.\n",
    "\n",
    "We first try the \"generate_asset_payoff\" function with our above parameters. This should generate an array of 0 or 4 values each with a probability of 1/2 and the total length of the array is T episodes."
   ]
  },
  {
   "cell_type": "code",
   "execution_count": 3,
   "metadata": {},
   "outputs": [
    {
     "data": {
      "text/plain": [
       "array([0., 4., 0., ..., 0., 4., 4.])"
      ]
     },
     "execution_count": 3,
     "metadata": {},
     "output_type": "execute_result"
    }
   ],
   "source": [
    "generate_asset_payoff(prob_low, prob_high, payoff_low, payoff_high,T,1)"
   ]
  },
  {
   "attachments": {},
   "cell_type": "markdown",
   "metadata": {},
   "source": [
    "With the \"generate_trader_valuation\" function, this will generate an array of values of informed traders' valuation of the asset, each trader will have their own private valuation normally distributed with self-defined mean and standard deviation."
   ]
  },
  {
   "cell_type": "code",
   "execution_count": 4,
   "metadata": {},
   "outputs": [
    {
     "data": {
      "text/plain": [
       "array([ 8.12172682,  0.94121793, -2.64085876, ...,  4.1681861 ,\n",
       "        4.0186687 ,  7.8609922 ])"
      ]
     },
     "execution_count": 4,
     "metadata": {},
     "output_type": "execute_result"
    }
   ],
   "source": [
    "generate_trader_valuation(generate_asset_payoff(prob_low, prob_high, payoff_low, payoff_high,T,1), private_valuation_mean,private_valuation_sd,1)"
   ]
  },
  {
   "attachments": {},
   "cell_type": "markdown",
   "metadata": {},
   "source": [
    "With the \"generate_dealer_action\" function, we generate an array of either \"explore\" or \"exploit\" with the probability of \"explore\" decreasing over the array. The probability of \"explore\" at episode t is defined by the equation exp(-beta*t). With 200,000 episodes, we expect an average of 1249.5 \"explore\" actions."
   ]
  },
  {
   "cell_type": "code",
   "execution_count": 5,
   "metadata": {},
   "outputs": [
    {
     "name": "stdout",
     "output_type": "stream",
     "text": [
      "['explore' 'explore' 'explore' ... 'exploit' 'exploit' 'exploit']\n"
     ]
    },
    {
     "data": {
      "text/plain": [
       "(array(['exploit', 'explore'], dtype='<U21'), array([198777,   1223]))"
      ]
     },
     "execution_count": 5,
     "metadata": {},
     "output_type": "execute_result"
    }
   ],
   "source": [
    "print(generate_dealer_action(beta,T,1))\n",
    "np.unique(generate_dealer_action(beta,T,1), return_counts = True)"
   ]
  },
  {
   "attachments": {},
   "cell_type": "markdown",
   "metadata": {},
   "source": [
    "With the \"generate_q_matrix\" function, we generate a 1-dimensional array with values randomly sampled from a uniform distribution defined by U(lower_q, upper_q) and the total length of the array is the possible ask price the dealer can choose from. This is the initial Q-matrix of the dealer."
   ]
  },
  {
   "cell_type": "code",
   "execution_count": 6,
   "metadata": {},
   "outputs": [
    {
     "data": {
      "text/html": [
       "<div>\n",
       "<style scoped>\n",
       "    .dataframe tbody tr th:only-of-type {\n",
       "        vertical-align: middle;\n",
       "    }\n",
       "\n",
       "    .dataframe tbody tr th {\n",
       "        vertical-align: top;\n",
       "    }\n",
       "\n",
       "    .dataframe thead th {\n",
       "        text-align: right;\n",
       "    }\n",
       "</style>\n",
       "<table border=\"1\" class=\"dataframe\">\n",
       "  <thead>\n",
       "    <tr style=\"text-align: right;\">\n",
       "      <th></th>\n",
       "      <th>dealer_1</th>\n",
       "    </tr>\n",
       "  </thead>\n",
       "  <tbody>\n",
       "    <tr>\n",
       "      <th>0</th>\n",
       "      <td>4.251066</td>\n",
       "    </tr>\n",
       "    <tr>\n",
       "      <th>1</th>\n",
       "      <td>5.160973</td>\n",
       "    </tr>\n",
       "    <tr>\n",
       "      <th>2</th>\n",
       "      <td>3.000343</td>\n",
       "    </tr>\n",
       "    <tr>\n",
       "      <th>3</th>\n",
       "      <td>3.906998</td>\n",
       "    </tr>\n",
       "    <tr>\n",
       "      <th>4</th>\n",
       "      <td>3.440268</td>\n",
       "    </tr>\n",
       "    <tr>\n",
       "      <th>5</th>\n",
       "      <td>3.277016</td>\n",
       "    </tr>\n",
       "    <tr>\n",
       "      <th>6</th>\n",
       "      <td>3.558781</td>\n",
       "    </tr>\n",
       "    <tr>\n",
       "      <th>7</th>\n",
       "      <td>4.036682</td>\n",
       "    </tr>\n",
       "    <tr>\n",
       "      <th>8</th>\n",
       "      <td>4.190302</td>\n",
       "    </tr>\n",
       "    <tr>\n",
       "      <th>9</th>\n",
       "      <td>4.616450</td>\n",
       "    </tr>\n",
       "    <tr>\n",
       "      <th>10</th>\n",
       "      <td>4.257584</td>\n",
       "    </tr>\n",
       "    <tr>\n",
       "      <th>11</th>\n",
       "      <td>5.055659</td>\n",
       "    </tr>\n",
       "    <tr>\n",
       "      <th>12</th>\n",
       "      <td>3.613357</td>\n",
       "    </tr>\n",
       "    <tr>\n",
       "      <th>13</th>\n",
       "      <td>5.634352</td>\n",
       "    </tr>\n",
       "    <tr>\n",
       "      <th>14</th>\n",
       "      <td>3.082163</td>\n",
       "    </tr>\n",
       "  </tbody>\n",
       "</table>\n",
       "</div>"
      ],
      "text/plain": [
       "    dealer_1\n",
       "0   4.251066\n",
       "1   5.160973\n",
       "2   3.000343\n",
       "3   3.906998\n",
       "4   3.440268\n",
       "5   3.277016\n",
       "6   3.558781\n",
       "7   4.036682\n",
       "8   4.190302\n",
       "9   4.616450\n",
       "10  4.257584\n",
       "11  5.055659\n",
       "12  3.613357\n",
       "13  5.634352\n",
       "14  3.082163"
      ]
     },
     "execution_count": 6,
     "metadata": {},
     "output_type": "execute_result"
    }
   ],
   "source": [
    "generate_q_matrix(lower_q, upper_q, len(possible_ask_price), no_of_dealer,1)"
   ]
  },
  {
   "attachments": {},
   "cell_type": "markdown",
   "metadata": {},
   "source": [
    "# Monopoly Situation\n",
    "\n",
    "Here, we run the simulation in the monopoly market maker situation, where there is only one dealer in the market."
   ]
  },
  {
   "cell_type": "code",
   "execution_count": 7,
   "metadata": {},
   "outputs": [
    {
     "name": "stdout",
     "output_type": "stream",
     "text": [
      "10.0%\n",
      "20.0%\n",
      "30.0%\n",
      "40.0%\n",
      "50.0%\n",
      "60.0%\n",
      "70.0%\n",
      "80.0%\n",
      "90.0%\n",
      "100.0%\n"
     ]
    }
   ],
   "source": [
    "greedy_price_df = pd.DataFrame(np.arange(1,T+1,1), columns = ['episodes'])\n",
    "\n",
    "# k iterates for each experiment, we will use k as the random seed for each experiment as well\n",
    "for k in np.arange(1,K+1,1):\n",
    "\n",
    "    # Track Process\n",
    "    if k%100 == 0: print(str(k/K*100) + \"%\")\n",
    "\n",
    "    # This array saves the historical greedy prices for each experiment\n",
    "    historical_greedy_price = np.array([])\n",
    "\n",
    "    # Initate experiment with initial variables (Asset Payoff, Trader Valuation, Dealer Action, Q-Matrix)\n",
    "    asset_payoff = generate_asset_payoff(prob_low, prob_high, payoff_low, payoff_high,T,k)\n",
    "    trader_valuation = generate_trader_valuation(generate_asset_payoff(prob_low, prob_high, payoff_low, payoff_high,T,k), private_valuation_mean,private_valuation_sd,k)\n",
    "    dealer_action = generate_dealer_action(beta,T,k)\n",
    "    Q_matrix = generate_q_matrix(lower_q, upper_q, len(possible_ask_price), no_of_dealer,k)\n",
    "\n",
    "    # Set random seed for ask_price randomisation during \"explore\", we iterate this over every experiment to make sure different experiments are selecting different \"explore\" ask prices\n",
    "    random.seed(k)\n",
    "\n",
    "    # Loop over each episode\n",
    "    for t in np.arange(0,T,1):\n",
    "        \n",
    "        # Dealer chooses to explore or exploit\n",
    "        if dealer_action[t] == \"explore\":\n",
    "            # If explore, ask_price is random integer from 1 to 15, since we have set seed=k above, this makes sure that ask_prices are taken at random differently in each experiment\n",
    "            ask_price = random.choice(possible_ask_price)\n",
    "\n",
    "        if dealer_action[t] == \"exploit\":\n",
    "            # If exploit, ask_price is the action with the highest expected payoff from Q_matrix\n",
    "            ask_price = np.argmax(Q_matrix.iloc[:,0])+1\n",
    "\n",
    "            # Use an array to save historical ask prices and stop if greedy price didn't change for 10000 episodes\n",
    "            historical_greedy_price = np.append(historical_greedy_price, ask_price)\n",
    "            if len(historical_greedy_price) > 10000 and np.std(historical_greedy_price[-10000:]) == 0:\n",
    "                break       \n",
    "\n",
    "        # Informed trader now chooses whether to trade in this episode according to the ask_price\n",
    "        # Case 1) Trader chooses to trade\n",
    "        if trader_valuation[t] >= ask_price:\n",
    "            # We update the Q-matrix of the dealer based on the profit made when a trade occurred in this episode\n",
    "            Q_matrix.iloc[ask_price-1,0] = alpha*(ask_price-asset_payoff[t]) + (1-alpha)*Q_matrix.iloc[ask_price-1,0]\n",
    "\n",
    "        # Case 2) Trader chooses not to trade\n",
    "        if trader_valuation[t] < ask_price:\n",
    "            # Otherwise, profit is 0 and the Q-matrix of the dealer is updated accordingly\n",
    "            Q_matrix.iloc[ask_price-1,0] = (1-alpha)*Q_matrix.iloc[ask_price-1,0]\n",
    "    \n",
    "    # Save the historical greedy price for this experiment in the dataframe\n",
    "    greedy_price_df = pd.concat([greedy_price_df, pd.DataFrame(historical_greedy_price, columns = ['experiment' + str(k)])], axis = 1)\n",
    "\n",
    "greedy_price_df.set_index(\"episodes\", inplace = True)"
   ]
  },
  {
   "cell_type": "code",
   "execution_count": 7,
   "metadata": {},
   "outputs": [],
   "source": [
    "#greedy_price_df.to_csv(\"monopoly_dealer_price.csv\")\n",
    "greedy_price_df = pd.read_csv(\"monopoly_dealer_price.csv\")\n",
    "greedy_price_df.set_index(\"episodes\", inplace = True)"
   ]
  },
  {
   "attachments": {},
   "cell_type": "markdown",
   "metadata": {},
   "source": [
    "# Results\n",
    "\n",
    "We will be analyzing the results here with graphs.\n",
    "\n",
    "We first look at how the average greedy price changes over episodes for the market marker. This gives us the idea of how the market maker learns from the environment."
   ]
  },
  {
   "cell_type": "code",
   "execution_count": 9,
   "metadata": {},
   "outputs": [
    {
     "data": {
      "image/png": "[encoded data removed]",
      "text/plain": [
       "<Figure size 640x480 with 1 Axes>"
      ]
     },
     "metadata": {},
     "output_type": "display_data"
    }
   ],
   "source": [
    "plt.title(\"Average greedy price over episode\")\n",
    "plt.plot(greedy_price_df.ffill().mean(axis = 1), color = \"#2e5fa1\", linewidth = 0.5)\n",
    "plt.xlabel(\"Episodes\")\n",
    "plt.ylabel(\"Average Greedy Price\")\n",
    "plt.savefig(\"Monopoly average greedy price over time.png\")\n",
    "plt.show()"
   ]
  },
  {
   "attachments": {},
   "cell_type": "markdown",
   "metadata": {},
   "source": [
    "We are also interested in the final greedy price market makers arrives in."
   ]
  },
  {
   "cell_type": "code",
   "execution_count": 10,
   "metadata": {},
   "outputs": [
    {
     "data": {
      "image/png": "[encoded data removed]",
      "text/plain": [
       "<Figure size 640x480 with 1 Axes>"
      ]
     },
     "metadata": {},
     "output_type": "display_data"
    }
   ],
   "source": [
    "greedy_prices, greedy_prices_freq = np.unique(greedy_price_df.ffill(axis = 0).iloc[-1,:], return_counts = True)\n",
    "\n",
    "plt.title(\"Final greedy price distribution\")\n",
    "plt.bar(greedy_prices, greedy_prices_freq, color = \"#2e5fa1\")\n",
    "plt.xlabel(\"Greedy Price\")\n",
    "plt.ylabel(\"Frequency\")\n",
    "plt.xticks(np.arange(1,16,1))\n",
    "plt.savefig(\"Monopoly final greedy price distribution.png\")\n",
    "plt.show()"
   ]
  }
 ],
 "metadata": {
  "kernelspec": {
   "display_name": "Python 3",
   "language": "python",
   "name": "python3"
  },
  "language_info": {
   "codemirror_mode": {
    "name": "ipython",
    "version": 3
   },
   "file_extension": ".py",
   "mimetype": "text/x-python",
   "name": "python",
   "nbconvert_exporter": "python",
   "pygments_lexer": "ipython3",
   "version": "3.11.3"
  },
  "orig_nbformat": 4
 },
 "nbformat": 4,
 "nbformat_minor": 2
}
