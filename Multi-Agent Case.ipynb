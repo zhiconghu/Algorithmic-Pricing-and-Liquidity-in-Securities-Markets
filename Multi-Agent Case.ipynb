{
 "cells": [
  {
   "cell_type": "code",
   "execution_count": 1,
   "metadata": {},
   "outputs": [],
   "source": [
    "import numpy as np\n",
    "from numpy import random\n",
    "import pandas as pd\n",
    "import matplotlib.pyplot as plt\n",
    "\n",
    "# Library for multi-threading\n",
    "import multiprocessing\n",
    "from functools import partial\n",
    "\n",
    "from ipynb.fs.full.Functions import multiagent_experiment"
   ]
  },
  {
   "attachments": {},
   "cell_type": "markdown",
   "metadata": {},
   "source": [
    "# Variable Setting\n",
    "\n",
    "This is where we can set the variables of our economic environment. We can play around with these variables."
   ]
  },
  {
   "cell_type": "code",
   "execution_count": 2,
   "metadata": {},
   "outputs": [],
   "source": [
    "# Asset parameters\n",
    "payoff_high = 4\n",
    "prob_high = 0.5\n",
    "payoff_low = 0\n",
    "prob_low = 0.5\n",
    "expected_payoff = payoff_high*prob_high + payoff_low*prob_low\n",
    "\n",
    "# Dealer parameter\n",
    "no_dealers = 2\n",
    "lowest_ask_price = 1\n",
    "highest_ask_price = 15\n",
    "possible_ask_price = np.arange(lowest_ask_price, highest_ask_price+1, 1)\n",
    "\n",
    "# Trader parameters\n",
    "private_valuation_mean = 0\n",
    "private_valuation_sd = 5\n",
    "\n",
    "# Learning parameters\n",
    "alpha = 0.01\n",
    "beta = 0.0008\n",
    "lower_q = 3\n",
    "upper_q = 6\n",
    "\n",
    "# Number of Experiments and Episode\n",
    "K = 100\n",
    "T = 200000"
   ]
  },
  {
   "attachments": {},
   "cell_type": "markdown",
   "metadata": {},
   "source": [
    "# Multi-Agent Situation\n",
    "\n",
    "Here, we run the simulation in the multi-agent market maker situation, where there are many dealer in the market.\n",
    "\n",
    "The function that sets up the whole environment are in \"Functions.ipnyb\". We need to put it in a seperate file for it to run on multiple threads. However, it is important to note that we need to have all variables of our experiment defined locally for the function to used."
   ]
  },
  {
   "cell_type": "code",
   "execution_count": null,
   "metadata": {},
   "outputs": [],
   "source": [
    "if __name__ == '__main__':\n",
    "    pool = multiprocessing.Pool(processes = 10)\n",
    "\n",
    "    # Set all other parameters other than k (random_seed) for the function \"multiagent_experiment\"\n",
    "    func = partial(multiagent_experiment, \n",
    "                   payoff_high, prob_high, payoff_low, prob_low, no_dealers, lowest_ask_price, highest_ask_price, private_valuation_mean, private_valuation_sd, \n",
    "                   alpha, beta, lower_q, upper_q, T)\n",
    "    \n",
    "    # Run the function\n",
    "    results = pool.map(func, np.arange(1,K+1,1))"
   ]
  },
  {
   "attachments": {},
   "cell_type": "markdown",
   "metadata": {},
   "source": [
    "# Results\n",
    "\n",
    "For multi-agent experiments, we are only interested in the comparative statistics."
   ]
  },
  {
   "cell_type": "code",
   "execution_count": null,
   "metadata": {},
   "outputs": [],
   "source": [
    "comparative_stats = pd.DataFrame({\"trading_volume\":[item[1] for item in results],\n",
    "                                  \"quoted_spread\":[item[2] for item in results],\n",
    "                                  \"realized_spread\":[item[3] for item in results]})\n",
    "\n",
    "# We save the data locally\n",
    "#comparative_stats.to_csv(\"./MultiAgent_Simulation/stats_agent2.csv\", index=False)"
   ]
  }
 ],
 "metadata": {
  "kernelspec": {
   "display_name": "Python 3",
   "language": "python",
   "name": "python3"
  },
  "language_info": {
   "codemirror_mode": {
    "name": "ipython",
    "version": 3
   },
   "file_extension": ".py",
   "mimetype": "text/x-python",
   "name": "python",
   "nbconvert_exporter": "python",
   "pygments_lexer": "ipython3",
   "version": "3.11.3"
  },
  "orig_nbformat": 4
 },
 "nbformat": 4,
 "nbformat_minor": 2
}
