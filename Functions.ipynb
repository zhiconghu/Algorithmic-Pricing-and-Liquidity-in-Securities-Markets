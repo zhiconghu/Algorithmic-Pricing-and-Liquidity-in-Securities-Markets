{
 "cells": [
  {
   "cell_type": "code",
   "execution_count": 16,
   "metadata": {},
   "outputs": [],
   "source": [
    "import numpy as np\n",
    "from numpy import random\n",
    "import pandas as pd"
   ]
  },
  {
   "cell_type": "code",
   "execution_count": 12,
   "metadata": {},
   "outputs": [],
   "source": [
    "\"\"\"\n",
    "Parameters:\n",
    "_episodes_ (int): Number of episodes in experiment\n",
    "_seed_ (int): Seed for random generation\n",
    "\n",
    "Result: An arry with length (_episodes_) filled with either _payoff_low_/_payoff_high_\n",
    "\"\"\"\n",
    "\n",
    "def generate_asset_payoff(_prob_low_, _prob_high_, _payoff_low_, _payoff_high_, _episodes_, _seed_):\n",
    "    random.seed(_seed_)\n",
    "\n",
    "    # Generate an array of random asset payoff\n",
    "    asset_payoff = random.uniform(0,1,_episodes_)\n",
    "    asset_payoff[asset_payoff < _prob_low_] = _payoff_low_\n",
    "    asset_payoff[asset_payoff >= _prob_high_] = _payoff_high_\n",
    "\n",
    "    return asset_payoff"
   ]
  },
  {
   "cell_type": "code",
   "execution_count": 13,
   "metadata": {},
   "outputs": [],
   "source": [
    "\"\"\"\n",
    "Parameters:\n",
    "_asset_payoff_ (array): Array of realized asset payoff values\n",
    "_private_valuation_mean_ (float): Mean of private valuation of traders\n",
    "_private_valuation_sd_ (float): Standard deviation of private valuation of traders\n",
    "_seed_ (int): Seed for random generation\n",
    "\n",
    "Result: An array with the same length as the (_asset_payoff_) parameter, with trader's private valuation\n",
    "\"\"\"\n",
    "\n",
    "def generate_trader_valuation(_asset_payoff_, _private_valuation_mean_, _private_valuation_sd_, _seed_):\n",
    "    random.seed(_seed_)\n",
    "\n",
    "    # Generate an array for the valuation of the asset of continuous trader\n",
    "    trader_valuation = _asset_payoff_ + random.normal(_private_valuation_mean_, _private_valuation_sd_, len(_asset_payoff_))\n",
    "\n",
    "    return(trader_valuation)"
   ]
  },
  {
   "cell_type": "code",
   "execution_count": 14,
   "metadata": {},
   "outputs": [],
   "source": [
    "\"\"\"\n",
    "Parameters:\n",
    "_episodes_ (int): Number of episodes in experiment\n",
    "_seed_ (int): Seed for random generation\n",
    "\n",
    "Result: An array of length (_episodes_) filled with \"explore\"/\"exploit\"\n",
    "\"\"\"\n",
    "\n",
    "def generate_dealer_action(_beta_, _episodes_, _seed_):\n",
    "    random.seed(_seed_)\n",
    "\n",
    "    # Generate a series of dealer action with probability of \"explore\" decreasing with the function exp(-beta*t)\n",
    "    func = np.vectorize(lambda t: np.exp(-_beta_*t))\n",
    "    dealer_action_prob = func(np.arange(0,_episodes_,1))\n",
    "\n",
    "    dealer_action = random.uniform(0, 1, _episodes_)\n",
    "    dealer_action = (dealer_action_prob >= dealer_action).astype(int).astype(str)\n",
    "    dealer_action[dealer_action == '1'] = \"explore\"\n",
    "    dealer_action[dealer_action == '0'] = \"exploit\"\n",
    "\n",
    "    return dealer_action"
   ]
  },
  {
   "cell_type": "code",
   "execution_count": 42,
   "metadata": {},
   "outputs": [],
   "source": [
    "\"\"\"\n",
    "Parameters:\n",
    "_lower_q_ (int): Lower limit of the uniform distribution to select initial values from\n",
    "_upper_q_ (int): Upper limit of the uniform distribution to select initial values from\n",
    "_no_possible_prices_ (int): Possible ask prices by the dealer\n",
    "_no_dealers_ (int): Number of dealers in the environment\n",
    "_seed_ (int): Seed for random generation\n",
    "\n",
    "Result: Matrix of dimensions (_no_possible_prices_ x _no_dealers_)\n",
    "\"\"\"\n",
    "\n",
    "def generate_q_matrix(_lower_q_, _upper_q_, _no_possible_prices_, _no_dealers_, _seed_):\n",
    "    random.seed(_seed_)\n",
    "\n",
    "    # Generate Q_matrix that indicates the expected payoff of the dealer asking each price\n",
    "\n",
    "    Q_matrix = pd.DataFrame(np.random.uniform(_lower_q_, _upper_q_, size = (_no_possible_prices_,_no_dealers_)), columns = [\"dealer_\" + x for x in list(map(str, np.arange(_no_dealers_)+1))])\n",
    "    #= random.uniform(_lower_q_, _upper_q_, _no_possible_prices_)\n",
    "    \n",
    "    return(Q_matrix)"
   ]
  }
 ],
 "metadata": {
  "kernelspec": {
   "display_name": "Python 3",
   "language": "python",
   "name": "python3"
  },
  "language_info": {
   "codemirror_mode": {
    "name": "ipython",
    "version": 3
   },
   "file_extension": ".py",
   "mimetype": "text/x-python",
   "name": "python",
   "nbconvert_exporter": "python",
   "pygments_lexer": "ipython3",
   "version": "3.11.3"
  },
  "orig_nbformat": 4
 },
 "nbformat": 4,
 "nbformat_minor": 2
}
